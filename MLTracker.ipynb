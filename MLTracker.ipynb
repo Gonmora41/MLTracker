{
 "cells": [
  {
   "cell_type": "code",
   "execution_count": 1,
   "metadata": {},
   "outputs": [],
   "source": [
    "from bs4 import BeautifulSoup\n",
    "import requests\n",
    "import time\n",
    "import datetime\n",
    "import pandas as pd\n",
    "import csv\n",
    "from IPython.display import display"
   ]
  },
  {
   "cell_type": "code",
   "execution_count": 17,
   "metadata": {},
   "outputs": [],
   "source": [
    "\n",
    "def item():\n",
    "    \n",
    "    url = input('Insert the item to track: ')\n",
    "\n",
    "    page = requests.get(url)\n",
    "\n",
    "    soup1 = BeautifulSoup(page.text, 'html.parser')\n",
    "\n",
    "    # Let's get the item's title\n",
    "\n",
    "    title = soup1.find(class_ = 'ui-pdp-title').get_text()\n",
    "\n",
    "    title2 = title.replace('\\xa0', ' ') # Arranging minor detail in the title\n",
    "\n",
    "    #Now its price, and let's make it int\n",
    "\n",
    "    price = soup1.find(class_ = 'andes-money-amount__fraction').get_text()\n",
    "\n",
    "    price2 = price.replace('.', '')\n",
    "\n",
    "    price_int = int(price2) "
   ]
  },
  {
   "cell_type": "code",
   "execution_count": 18,
   "metadata": {},
   "outputs": [],
   "source": [
    "\n",
    "\n",
    "url = 'https://articulo.mercadolibre.com.ar/MLA-1185361297-tijera-multiuso-de-acero-inoxidable-rompenueces-bremen-7721-_JM#reco_item_pos=0&reco_backend=machinalis-attributes-p2p&reco_backend_type=function&reco_client=home_cart-recommendations&reco_id=dff86d5e-c6f3-4018-a2fc-b3f086e76a0a'\n",
    "\n",
    "page = requests.get(url)\n",
    "\n",
    "soup1 = BeautifulSoup(page.text, 'html.parser')\n",
    "\n",
    "\n",
    "\n",
    "\n",
    "# Let's get the item's title\n",
    "\n",
    "title = soup1.find(class_ = 'ui-pdp-title').get_text()\n",
    "\n",
    "title2 = title.replace('\\xa0', ' ') # Arranging minor detail in the title\n",
    "\n",
    "#Now its price, and let's make it int\n",
    "\n",
    "price = soup1.find(class_ = 'andes-money-amount__fraction').get_text()\n",
    "\n",
    "price2 = price.replace('.', '')\n",
    "\n",
    "price_int = int(price2) "
   ]
  },
  {
   "cell_type": "code",
   "execution_count": 19,
   "metadata": {},
   "outputs": [
    {
     "data": {
      "text/plain": [
       "'2.900'"
      ]
     },
     "execution_count": 19,
     "metadata": {},
     "output_type": "execute_result"
    }
   ],
   "source": [
    "price"
   ]
  },
  {
   "cell_type": "code",
   "execution_count": 20,
   "metadata": {},
   "outputs": [
    {
     "data": {
      "text/plain": [
       "745.0"
      ]
     },
     "execution_count": 20,
     "metadata": {},
     "output_type": "execute_result"
    }
   ],
   "source": [
    "# Now let's get the dollar value\n",
    "\n",
    "url2 = 'https://dolarhoy.com/'\n",
    "\n",
    "page2 = requests.get(url2)\n",
    "\n",
    "soup2 = BeautifulSoup(page2.text, 'html.parser')\n",
    "\n",
    "dolar_blue = soup2.find_all(class_ = 'venta')[9].get_text()\n",
    "\n",
    "dolar_blue_f = float(dolar_blue)\n",
    "\n",
    "dolar_blue_f"
   ]
  },
  {
   "cell_type": "code",
   "execution_count": 21,
   "metadata": {},
   "outputs": [
    {
     "data": {
      "text/plain": [
       "3.89"
      ]
     },
     "execution_count": 21,
     "metadata": {},
     "output_type": "execute_result"
    }
   ],
   "source": [
    "# Here comes the dolar blue price\n",
    "\n",
    "usd_price = round(price_int / dolar_blue_f, 2)\n",
    "\n",
    "usd_price"
   ]
  },
  {
   "cell_type": "code",
   "execution_count": 22,
   "metadata": {},
   "outputs": [],
   "source": [
    "# Time for the timestamp\n",
    "\n",
    "today = datetime.date.today()\n"
   ]
  },
  {
   "cell_type": "code",
   "execution_count": 23,
   "metadata": {},
   "outputs": [],
   "source": [
    "# Now we create the csv -- After the first run of this program we can comment out this part since it is not the idea to keep creating this csv\n",
    "\n",
    "# header = ['Title', 'ARS Price', 'Dólar Blue', 'USD Price', 'Date']\n",
    "# data = [title2, price_int, dolar_blue_f, usd_price, today]\n",
    "\n",
    "# with open('MLTracke3r.csv', 'w', newline='', encoding='UTF8') as f:\n",
    "#     writer = csv.writer(f)\n",
    "#     writer.writerow(header)\n",
    "#     writer.writerow(data)"
   ]
  },
  {
   "cell_type": "code",
   "execution_count": 24,
   "metadata": {},
   "outputs": [],
   "source": [
    "# We eventually need to append more data to the csv:\n",
    "\n",
    "with open('MLTracker.csv', 'a+', newline='', encoding='UTF8') as f:\n",
    "    writer = csv.writer(f)\n",
    "    writer.writerow(data)"
   ]
  },
  {
   "cell_type": "code",
   "execution_count": 2,
   "metadata": {},
   "outputs": [],
   "source": [
    "# Now everything goes together into one function:\n",
    "\n",
    "def price_tracker():\n",
    "    url = 'https://www.mercadolibre.com.ar/lavarropas-automatico-samsung-ww70aa046b-inverter-blanco-200v-240v/p/MLA19906217#backend=item_decorator&backend_type=function&client=history-polycard'\n",
    "\n",
    "    page = requests.get(url)\n",
    "\n",
    "    soup1 = BeautifulSoup(page.content, 'html.parser')\n",
    "\n",
    "    # Let's get the item's title\n",
    "\n",
    "    title = soup1.find(class_ = 'ui-pdp-title').get_text()\n",
    "\n",
    "    title2 = title.replace('\\xa0', ' ') # Arranging minor detail in the title\n",
    "\n",
    "    #Now its price, and let's make it int\n",
    "\n",
    "    price = soup1.find(class_ = 'andes-money-amount__fraction').get_text()\n",
    "\n",
    "    price2 = price.replace('.', '')\n",
    "\n",
    "    price_int = int(price2) \n",
    "\n",
    "    url2 = 'https://dolarhoy.com/'\n",
    "\n",
    "    page2 = requests.get(url2)\n",
    "\n",
    "    soup2 = BeautifulSoup(page2.content, 'html.parser')\n",
    "\n",
    "    dolar_blue = soup2.find_all(class_ = 'venta')[9].get_text()\n",
    "\n",
    "    dolar_blue_f = float(dolar_blue)\n",
    "\n",
    "    dolar_blue_f\n",
    "\n",
    "    usd_price = round(price_int / dolar_blue_f, 2)\n",
    "\n",
    "    usd_price\n",
    "\n",
    "    today = datetime.date.today()\n",
    "\n",
    "    \n",
    "    data = [title2, price_int, dolar_blue_f, usd_price, today]\n",
    "\n",
    "    with open('MLTracker.csv', 'a+', newline='', encoding='UTF8') as f:\n",
    "        writer = csv.writer(f)\n",
    "        writer.writerow(data)\n",
    "\n",
    "    "
   ]
  },
  {
   "cell_type": "code",
   "execution_count": 3,
   "metadata": {},
   "outputs": [],
   "source": [
    "#Keeps running with your PC on\n",
    "price_tracker()\n",
    "#while(True):\n",
    "#    price_tracker()\n",
    "#    time.sleep(86400) # 60 = 1 minute, 3600 = 1 hour, 86400 = 1 day, 604800 = 1 week, 2592000 = 1 month"
   ]
  },
  {
   "cell_type": "code",
   "execution_count": 4,
   "metadata": {},
   "outputs": [
    {
     "data": {
      "text/html": [
       "<div>\n",
       "<style scoped>\n",
       "    .dataframe tbody tr th:only-of-type {\n",
       "        vertical-align: middle;\n",
       "    }\n",
       "\n",
       "    .dataframe tbody tr th {\n",
       "        vertical-align: top;\n",
       "    }\n",
       "\n",
       "    .dataframe thead th {\n",
       "        text-align: right;\n",
       "    }\n",
       "</style>\n",
       "<table border=\"1\" class=\"dataframe\">\n",
       "  <thead>\n",
       "    <tr style=\"text-align: right;\">\n",
       "      <th></th>\n",
       "      <th>Title</th>\n",
       "      <th>Price</th>\n",
       "      <th>Dólar Libre</th>\n",
       "      <th>USD Price</th>\n",
       "      <th>Date</th>\n",
       "    </tr>\n",
       "  </thead>\n",
       "  <tbody>\n",
       "    <tr>\n",
       "      <th>0</th>\n",
       "      <td>Lavarropas automático Samsung WW70AA046B inver...</td>\n",
       "      <td>341516</td>\n",
       "      <td>738.0</td>\n",
       "      <td>462.76</td>\n",
       "      <td>2023-09-18</td>\n",
       "    </tr>\n",
       "    <tr>\n",
       "      <th>1</th>\n",
       "      <td>Lavarropas automático Samsung WW70AA046B inver...</td>\n",
       "      <td>341516</td>\n",
       "      <td>738.0</td>\n",
       "      <td>462.76</td>\n",
       "      <td>2023-09-19</td>\n",
       "    </tr>\n",
       "    <tr>\n",
       "      <th>2</th>\n",
       "      <td>Lavarropas automático Samsung WW70AA046B inver...</td>\n",
       "      <td>330499</td>\n",
       "      <td>735.0</td>\n",
       "      <td>449.66</td>\n",
       "      <td>2023-09-20</td>\n",
       "    </tr>\n",
       "    <tr>\n",
       "      <th>3</th>\n",
       "      <td>Lavarropas automático Samsung WW70AA046B inver...</td>\n",
       "      <td>330499</td>\n",
       "      <td>745.0</td>\n",
       "      <td>443.62</td>\n",
       "      <td>2023-09-21</td>\n",
       "    </tr>\n",
       "    <tr>\n",
       "      <th>4</th>\n",
       "      <td>Lavarropas automático Samsung WW70AA046B inver...</td>\n",
       "      <td>330499</td>\n",
       "      <td>745.0</td>\n",
       "      <td>443.62</td>\n",
       "      <td>2023-09-22</td>\n",
       "    </tr>\n",
       "  </tbody>\n",
       "</table>\n",
       "</div>"
      ],
      "text/plain": [
       "                                               Title   Price  Dólar Libre  \\\n",
       "0  Lavarropas automático Samsung WW70AA046B inver...  341516        738.0   \n",
       "1  Lavarropas automático Samsung WW70AA046B inver...  341516        738.0   \n",
       "2  Lavarropas automático Samsung WW70AA046B inver...  330499        735.0   \n",
       "3  Lavarropas automático Samsung WW70AA046B inver...  330499        745.0   \n",
       "4  Lavarropas automático Samsung WW70AA046B inver...  330499        745.0   \n",
       "\n",
       "   USD Price        Date  \n",
       "0     462.76  2023-09-18  \n",
       "1     462.76  2023-09-19  \n",
       "2     449.66  2023-09-20  \n",
       "3     443.62  2023-09-21  \n",
       "4     443.62  2023-09-22  "
      ]
     },
     "metadata": {},
     "output_type": "display_data"
    }
   ],
   "source": [
    "# Here we dreate the pandas dataframe\n",
    "\n",
    "\n",
    "df = pd.read_csv(r'C:\\Users\\gonza\\OneDrive\\Escritorio\\Archivos\\Data\\Danalitica\\05-Python\\01_AlexTheAnalyst\\02_MLPriceTracker\\MLTracker.csv')\n",
    "\n",
    "# We arrange the df display\n",
    "\n",
    "\n",
    "with pd.option_context('display.max_columns', None):\n",
    "    display(df)"
   ]
  },
  {
   "cell_type": "code",
   "execution_count": null,
   "metadata": {},
   "outputs": [],
   "source": []
  }
 ],
 "metadata": {
  "kernelspec": {
   "display_name": "base",
   "language": "python",
   "name": "python3"
  },
  "language_info": {
   "codemirror_mode": {
    "name": "ipython",
    "version": 3
   },
   "file_extension": ".py",
   "mimetype": "text/x-python",
   "name": "python",
   "nbconvert_exporter": "python",
   "pygments_lexer": "ipython3",
   "version": "3.11.4"
  },
  "orig_nbformat": 4
 },
 "nbformat": 4,
 "nbformat_minor": 2
}
